{
 "cells": [
  {
   "cell_type": "code",
   "execution_count": 1,
   "metadata": {},
   "outputs": [],
   "source": [
    "# Importando biblioteca\n",
    "import pandas as pd\n",
    "%matplotlib inline\n"
   ]
  },
  {
   "cell_type": "code",
   "execution_count": 2,
   "metadata": {},
   "outputs": [
    {
     "data": {
      "text/html": [
       "<div>\n",
       "<style scoped>\n",
       "    .dataframe tbody tr th:only-of-type {\n",
       "        vertical-align: middle;\n",
       "    }\n",
       "\n",
       "    .dataframe tbody tr th {\n",
       "        vertical-align: top;\n",
       "    }\n",
       "\n",
       "    .dataframe thead th {\n",
       "        text-align: right;\n",
       "    }\n",
       "</style>\n",
       "<table border=\"1\" class=\"dataframe\">\n",
       "  <thead>\n",
       "    <tr style=\"text-align: right;\">\n",
       "      <th></th>\n",
       "      <th>grau</th>\n",
       "      <th>turno</th>\n",
       "      <th>mensalidade</th>\n",
       "      <th>bolsa_integral_cotas</th>\n",
       "      <th>bolsa_integral_ampla</th>\n",
       "      <th>bolsa_parcial_cotas</th>\n",
       "      <th>bolsa_parcial_ampla</th>\n",
       "      <th>curso_id</th>\n",
       "      <th>curso_busca</th>\n",
       "      <th>cidade_busca</th>\n",
       "      <th>uf_busca</th>\n",
       "      <th>cidade_filtro</th>\n",
       "      <th>universidade_nome</th>\n",
       "      <th>campus_nome</th>\n",
       "      <th>campus_id</th>\n",
       "      <th>nome</th>\n",
       "      <th>nota_integral_ampla</th>\n",
       "      <th>nota_integral_cotas</th>\n",
       "      <th>nota_parcial_ampla</th>\n",
       "      <th>nota_parcial_cotas</th>\n",
       "    </tr>\n",
       "  </thead>\n",
       "  <tbody>\n",
       "    <tr>\n",
       "      <th>0</th>\n",
       "      <td>Bacharelado</td>\n",
       "      <td>Integral</td>\n",
       "      <td>9999.99</td>\n",
       "      <td>15.0</td>\n",
       "      <td>14.0</td>\n",
       "      <td>NaN</td>\n",
       "      <td>NaN</td>\n",
       "      <td>706710394154</td>\n",
       "      <td>Medicina</td>\n",
       "      <td>Campo Grande</td>\n",
       "      <td>MS</td>\n",
       "      <td>NTAwMjAwNDAyNzA0</td>\n",
       "      <td>Universidade Anhanguera - UNIDERP</td>\n",
       "      <td>CAMPO GRANDE - SEDE - Miguel Couto</td>\n",
       "      <td>706710</td>\n",
       "      <td>Medicina</td>\n",
       "      <td>740.22</td>\n",
       "      <td>726.46</td>\n",
       "      <td>NaN</td>\n",
       "      <td>NaN</td>\n",
       "    </tr>\n",
       "    <tr>\n",
       "      <th>1</th>\n",
       "      <td>Bacharelado</td>\n",
       "      <td>Noturno</td>\n",
       "      <td>9836.40</td>\n",
       "      <td>1.0</td>\n",
       "      <td>NaN</td>\n",
       "      <td>NaN</td>\n",
       "      <td>NaN</td>\n",
       "      <td>104191210567043</td>\n",
       "      <td>Enfermagem</td>\n",
       "      <td>Crateus</td>\n",
       "      <td>CE</td>\n",
       "      <td>MjMwNDAxODA0MTAz</td>\n",
       "      <td>Faculdade Princesa do Oeste - FPO</td>\n",
       "      <td>UNIDADE SEDE - São Vicente</td>\n",
       "      <td>1041912</td>\n",
       "      <td>Enfermagem</td>\n",
       "      <td>663.36</td>\n",
       "      <td>NaN</td>\n",
       "      <td>NaN</td>\n",
       "      <td>NaN</td>\n",
       "    </tr>\n",
       "    <tr>\n",
       "      <th>2</th>\n",
       "      <td>Bacharelado</td>\n",
       "      <td>Integral</td>\n",
       "      <td>9715.61</td>\n",
       "      <td>2.0</td>\n",
       "      <td>5.0</td>\n",
       "      <td>6.0</td>\n",
       "      <td>10.0</td>\n",
       "      <td>1002328574024</td>\n",
       "      <td>Medicina</td>\n",
       "      <td>Sao Paulo</td>\n",
       "      <td>SP</td>\n",
       "      <td>MzUxNTA2MTUwMzA4</td>\n",
       "      <td>Universidade Cidade de São Paulo - UNICID</td>\n",
       "      <td>UNIVERSIDADE CIDADE DE SÃO PAULO - UNICID - SE...</td>\n",
       "      <td>1002328</td>\n",
       "      <td>Medicina</td>\n",
       "      <td>739.62</td>\n",
       "      <td>738.08</td>\n",
       "      <td>738.96</td>\n",
       "      <td>718.64</td>\n",
       "    </tr>\n",
       "    <tr>\n",
       "      <th>3</th>\n",
       "      <td>Bacharelado</td>\n",
       "      <td>Noturno</td>\n",
       "      <td>9689.34</td>\n",
       "      <td>3.0</td>\n",
       "      <td>2.0</td>\n",
       "      <td>NaN</td>\n",
       "      <td>NaN</td>\n",
       "      <td>104191212798093</td>\n",
       "      <td>Psicologia</td>\n",
       "      <td>Crateus</td>\n",
       "      <td>CE</td>\n",
       "      <td>MjMwNDAxODA0MTAz</td>\n",
       "      <td>Faculdade Princesa do Oeste - FPO</td>\n",
       "      <td>UNIDADE SEDE - São Vicente</td>\n",
       "      <td>1041912</td>\n",
       "      <td>Psicologia</td>\n",
       "      <td>651.00</td>\n",
       "      <td>652.22</td>\n",
       "      <td>NaN</td>\n",
       "      <td>NaN</td>\n",
       "    </tr>\n",
       "    <tr>\n",
       "      <th>4</th>\n",
       "      <td>Bacharelado</td>\n",
       "      <td>Integral</td>\n",
       "      <td>9674.34</td>\n",
       "      <td>4.0</td>\n",
       "      <td>1.0</td>\n",
       "      <td>5.0</td>\n",
       "      <td>2.0</td>\n",
       "      <td>65899611932754</td>\n",
       "      <td>Medicina</td>\n",
       "      <td>Rio Branco</td>\n",
       "      <td>AC</td>\n",
       "      <td>MTIwMjAwNDAwNDAx</td>\n",
       "      <td>Faculdade Barão do Rio Branco - FAB</td>\n",
       "      <td>CAMPUS  - RIO BRANCO - JARDIM EUROPA II - Jard...</td>\n",
       "      <td>658996</td>\n",
       "      <td>Medicina</td>\n",
       "      <td>758.32</td>\n",
       "      <td>723.94</td>\n",
       "      <td>734.92</td>\n",
       "      <td>711.26</td>\n",
       "    </tr>\n",
       "  </tbody>\n",
       "</table>\n",
       "</div>"
      ],
      "text/plain": [
       "          grau     turno  mensalidade  bolsa_integral_cotas  \\\n",
       "0  Bacharelado  Integral      9999.99                  15.0   \n",
       "1  Bacharelado   Noturno      9836.40                   1.0   \n",
       "2  Bacharelado  Integral      9715.61                   2.0   \n",
       "3  Bacharelado   Noturno      9689.34                   3.0   \n",
       "4  Bacharelado  Integral      9674.34                   4.0   \n",
       "\n",
       "   bolsa_integral_ampla  bolsa_parcial_cotas  bolsa_parcial_ampla  \\\n",
       "0                  14.0                  NaN                  NaN   \n",
       "1                   NaN                  NaN                  NaN   \n",
       "2                   5.0                  6.0                 10.0   \n",
       "3                   2.0                  NaN                  NaN   \n",
       "4                   1.0                  5.0                  2.0   \n",
       "\n",
       "          curso_id curso_busca  cidade_busca uf_busca     cidade_filtro  \\\n",
       "0     706710394154    Medicina  Campo Grande       MS  NTAwMjAwNDAyNzA0   \n",
       "1  104191210567043  Enfermagem       Crateus       CE  MjMwNDAxODA0MTAz   \n",
       "2    1002328574024    Medicina     Sao Paulo       SP  MzUxNTA2MTUwMzA4   \n",
       "3  104191212798093  Psicologia       Crateus       CE  MjMwNDAxODA0MTAz   \n",
       "4   65899611932754    Medicina    Rio Branco       AC  MTIwMjAwNDAwNDAx   \n",
       "\n",
       "                           universidade_nome  \\\n",
       "0          Universidade Anhanguera - UNIDERP   \n",
       "1          Faculdade Princesa do Oeste - FPO   \n",
       "2  Universidade Cidade de São Paulo - UNICID   \n",
       "3          Faculdade Princesa do Oeste - FPO   \n",
       "4        Faculdade Barão do Rio Branco - FAB   \n",
       "\n",
       "                                         campus_nome  campus_id        nome  \\\n",
       "0                 CAMPO GRANDE - SEDE - Miguel Couto     706710    Medicina   \n",
       "1                         UNIDADE SEDE - São Vicente    1041912  Enfermagem   \n",
       "2  UNIVERSIDADE CIDADE DE SÃO PAULO - UNICID - SE...    1002328    Medicina   \n",
       "3                         UNIDADE SEDE - São Vicente    1041912  Psicologia   \n",
       "4  CAMPUS  - RIO BRANCO - JARDIM EUROPA II - Jard...     658996    Medicina   \n",
       "\n",
       "   nota_integral_ampla  nota_integral_cotas  nota_parcial_ampla  \\\n",
       "0               740.22               726.46                 NaN   \n",
       "1               663.36                  NaN                 NaN   \n",
       "2               739.62               738.08              738.96   \n",
       "3               651.00               652.22                 NaN   \n",
       "4               758.32               723.94              734.92   \n",
       "\n",
       "   nota_parcial_cotas  \n",
       "0                 NaN  \n",
       "1                 NaN  \n",
       "2              718.64  \n",
       "3                 NaN  \n",
       "4              711.26  "
      ]
     },
     "execution_count": 2,
     "metadata": {},
     "output_type": "execute_result"
    }
   ],
   "source": [
    "df = pd.read_csv('cursos-prouni.csv')\n",
    "\n",
    "\n",
    "df.head()"
   ]
  },
  {
   "cell_type": "code",
   "execution_count": 3,
   "metadata": {},
   "outputs": [
    {
     "data": {
      "text/plain": [
       "(41447, 20)"
      ]
     },
     "execution_count": 3,
     "metadata": {},
     "output_type": "execute_result"
    }
   ],
   "source": [
    "# verificando o tamanho do dataframe\n",
    "# formato (linhas, colunas)\n",
    "df.shape\n"
   ]
  },
  {
   "cell_type": "code",
   "execution_count": 4,
   "metadata": {},
   "outputs": [
    {
     "data": {
      "text/plain": [
       "grau                     object\n",
       "turno                    object\n",
       "mensalidade             float64\n",
       "bolsa_integral_cotas    float64\n",
       "bolsa_integral_ampla    float64\n",
       "bolsa_parcial_cotas     float64\n",
       "bolsa_parcial_ampla     float64\n",
       "curso_id                  int64\n",
       "curso_busca              object\n",
       "cidade_busca             object\n",
       "uf_busca                 object\n",
       "cidade_filtro            object\n",
       "universidade_nome        object\n",
       "campus_nome              object\n",
       "campus_id                 int64\n",
       "nome                     object\n",
       "nota_integral_ampla     float64\n",
       "nota_integral_cotas     float64\n",
       "nota_parcial_ampla      float64\n",
       "nota_parcial_cotas      float64\n",
       "dtype: object"
      ]
     },
     "execution_count": 4,
     "metadata": {},
     "output_type": "execute_result"
    }
   ],
   "source": [
    "# os tipos de dados das colunas\n",
    "df.dtypes\n",
    "# int - não tem casas decimais\n",
    "# float - que tem casa decimais"
   ]
  },
  {
   "cell_type": "code",
   "execution_count": 5,
   "metadata": {},
   "outputs": [],
   "source": [
    "# análise matemática das colunas númerica\n",
    "# df.describe('cursos-prouni.csv')\n",
    "\n"
   ]
  },
  {
   "cell_type": "code",
   "execution_count": 6,
   "metadata": {},
   "outputs": [],
   "source": [
    "# descrever os dados\n",
    "# df.info()"
   ]
  },
  {
   "cell_type": "code",
   "execution_count": 7,
   "metadata": {},
   "outputs": [],
   "source": [
    "#quantidade de cursos por uf\n",
    "#df['uf_busca'].value_counts()"
   ]
  },
  {
   "cell_type": "code",
   "execution_count": 8,
   "metadata": {},
   "outputs": [],
   "source": [
    "# qual curso com mensalidades mais altas?\n",
    "#df[df['mensalidade']== df['mensalidade'].max()]\n"
   ]
  },
  {
   "cell_type": "code",
   "execution_count": 9,
   "metadata": {},
   "outputs": [],
   "source": [
    "# QUAL O CURSO MAIS BARATO DO BRASIL?\n",
    "# df[df['mensalidade']== df['mensalidade'].min()]\n",
    "# para verificar algumas colunas depois do tratamento é necessário colocar\n",
    "# colchetes.\n",
    "# se quiser visualizar mais de uma coluna tem que colocar dois colchetes\n",
    "\n"
   ]
  },
  {
   "cell_type": "code",
   "execution_count": 10,
   "metadata": {},
   "outputs": [],
   "source": [
    "# qual a mensalidade mais cara por uf\n",
    "# df.groupby('uf_busca')['mensalidade'].max()\n",
    "# df.groupby('uf_busca')['mensalidade'].min()\n",
    "# mostrar todos os dados dos cursos mais caros de cada uf\n",
    "# df.loc[df.groupy('uf_busca')['mensalidade'].idxmax()]\n"
   ]
  },
  {
   "cell_type": "code",
   "execution_count": 11,
   "metadata": {},
   "outputs": [],
   "source": [
    "# mensalidade entre 500 e 1000\n",
    "# df[(df['mensalidade']> 500) & (df['menssalidade'] < 100)]"
   ]
  },
  {
   "cell_type": "code",
   "execution_count": null,
   "metadata": {},
   "outputs": [],
   "source": [
    "#SITE PARA DADOS - HTTP://OCA.ANCINE.GOV.BR - proximo notebook."
   ]
  }
 ],
 "metadata": {
  "kernelspec": {
   "display_name": "Python 3",
   "language": "python",
   "name": "python3"
  },
  "language_info": {
   "codemirror_mode": {
    "name": "ipython",
    "version": 3
   },
   "file_extension": ".py",
   "mimetype": "text/x-python",
   "name": "python",
   "nbconvert_exporter": "python",
   "pygments_lexer": "ipython3",
   "version": "3.8.3"
  }
 },
 "nbformat": 4,
 "nbformat_minor": 4
}
