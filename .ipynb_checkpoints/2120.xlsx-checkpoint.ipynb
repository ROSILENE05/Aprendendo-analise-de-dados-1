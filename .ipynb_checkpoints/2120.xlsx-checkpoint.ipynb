{
 "cells": [
  {
   "cell_type": "markdown",
   "metadata": {},
   "source": [
    "## ANÁLISE DE dADOS DE FILMES EXIBIDOS NO BRASIL DE 2009 A 2017\n",
    "#CELL TYPE - MARKDOWN(COMANDO PARA FAZER TITULO)\n"
   ]
  },
  {
   "cell_type": "code",
   "execution_count": null,
   "metadata": {},
   "outputs": [],
   "source": [
    "#PARA FAZER O TEXTO ACIMA É SÓ DAR UM SHIFT + ENTER\n"
   ]
  },
  {
   "cell_type": "code",
   "execution_count": 2,
   "metadata": {},
   "outputs": [],
   "source": [
    "#importando as bibliotecas\n",
    "import pandas as pd\n",
    "#configurando o metplotilb (desenha gráficos)\n",
    "%matplotlib inline"
   ]
  },
  {
   "cell_type": "code",
   "execution_count": 13,
   "metadata": {},
   "outputs": [
    {
     "data": {
      "text/html": [
       "<div>\n",
       "<style scoped>\n",
       "    .dataframe tbody tr th:only-of-type {\n",
       "        vertical-align: middle;\n",
       "    }\n",
       "\n",
       "    .dataframe tbody tr th {\n",
       "        vertical-align: top;\n",
       "    }\n",
       "\n",
       "    .dataframe thead th {\n",
       "        text-align: right;\n",
       "    }\n",
       "</style>\n",
       "<table border=\"1\" class=\"dataframe\">\n",
       "  <thead>\n",
       "    <tr style=\"text-align: right;\">\n",
       "      <th></th>\n",
       "      <th>Ano de exibição</th>\n",
       "      <th>Título da obra</th>\n",
       "      <th>CPB/ROE</th>\n",
       "      <th>Gênero</th>\n",
       "      <th>País(es) produtor(es) da obra</th>\n",
       "      <th>Nacionalidade da obra</th>\n",
       "      <th>Data de lançamento</th>\n",
       "      <th>Empresa distribuidora</th>\n",
       "      <th>Origem da empresa distribuidora</th>\n",
       "      <th>Público no ano de exibição</th>\n",
       "      <th>Renda (R$) no ano de exibição</th>\n",
       "    </tr>\n",
       "  </thead>\n",
       "  <tbody>\n",
       "    <tr>\n",
       "      <th>0</th>\n",
       "      <td>2019</td>\n",
       "      <td>120 Batimentos Por Minuto</td>\n",
       "      <td>E1700453800000</td>\n",
       "      <td>Ficção</td>\n",
       "      <td>França</td>\n",
       "      <td>Estrangeira</td>\n",
       "      <td>43104</td>\n",
       "      <td>Imovision</td>\n",
       "      <td>Distribuição Nacional</td>\n",
       "      <td>10</td>\n",
       "      <td>70</td>\n",
       "    </tr>\n",
       "    <tr>\n",
       "      <th>1</th>\n",
       "      <td>2019</td>\n",
       "      <td>3 Faces</td>\n",
       "      <td>E1800494900000</td>\n",
       "      <td>Ficção</td>\n",
       "      <td>Irã</td>\n",
       "      <td>Estrangeira</td>\n",
       "      <td>43559</td>\n",
       "      <td>Imovision</td>\n",
       "      <td>Distribuição Nacional</td>\n",
       "      <td>6289</td>\n",
       "      <td>103805</td>\n",
       "    </tr>\n",
       "    <tr>\n",
       "      <th>2</th>\n",
       "      <td>2019</td>\n",
       "      <td>45 Dias Sem Você</td>\n",
       "      <td>B1800586000000</td>\n",
       "      <td>Ficção</td>\n",
       "      <td>Brasil</td>\n",
       "      <td>Brasileira</td>\n",
       "      <td>43601</td>\n",
       "      <td>O2 Play</td>\n",
       "      <td>Distribuição Nacional</td>\n",
       "      <td>3303</td>\n",
       "      <td>31295</td>\n",
       "    </tr>\n",
       "    <tr>\n",
       "      <th>3</th>\n",
       "      <td>2019</td>\n",
       "      <td>A 100 Passos De Um Sonho</td>\n",
       "      <td>E1402795100000</td>\n",
       "      <td>Ficção</td>\n",
       "      <td>Estados Unidos</td>\n",
       "      <td>Estrangeira</td>\n",
       "      <td>41879</td>\n",
       "      <td>Disney</td>\n",
       "      <td>Distribuição Internacional</td>\n",
       "      <td>69</td>\n",
       "      <td>4186</td>\n",
       "    </tr>\n",
       "    <tr>\n",
       "      <th>4</th>\n",
       "      <td>2019</td>\n",
       "      <td>A Abelhinha Maya - O Filme</td>\n",
       "      <td>E1800136100000</td>\n",
       "      <td>Animação</td>\n",
       "      <td>Alemanha</td>\n",
       "      <td>Estrangeira</td>\n",
       "      <td>43237</td>\n",
       "      <td>Playarte</td>\n",
       "      <td>Distribuição Nacional</td>\n",
       "      <td>402</td>\n",
       "      <td>3531</td>\n",
       "    </tr>\n",
       "  </tbody>\n",
       "</table>\n",
       "</div>"
      ],
      "text/plain": [
       "  Ano de exibição              Título da obra         CPB/ROE    Gênero  \\\n",
       "0            2019   120 Batimentos Por Minuto  E1700453800000    Ficção   \n",
       "1            2019                     3 Faces  E1800494900000    Ficção   \n",
       "2            2019            45 Dias Sem Você  B1800586000000    Ficção   \n",
       "3            2019    A 100 Passos De Um Sonho  E1402795100000    Ficção   \n",
       "4            2019  A Abelhinha Maya - O Filme  E1800136100000  Animação   \n",
       "\n",
       "  País(es) produtor(es) da obra Nacionalidade da obra Data de lançamento  \\\n",
       "0                        França           Estrangeira              43104   \n",
       "1                           Irã           Estrangeira              43559   \n",
       "2                        Brasil            Brasileira              43601   \n",
       "3                Estados Unidos           Estrangeira              41879   \n",
       "4                      Alemanha           Estrangeira              43237   \n",
       "\n",
       "  Empresa distribuidora Origem da empresa distribuidora  \\\n",
       "0             Imovision           Distribuição Nacional   \n",
       "1             Imovision           Distribuição Nacional   \n",
       "2               O2 Play           Distribuição Nacional   \n",
       "3                Disney      Distribuição Internacional   \n",
       "4              Playarte           Distribuição Nacional   \n",
       "\n",
       "  Público no ano de exibição Renda (R$) no ano de exibição  \n",
       "0                         10                            70  \n",
       "1                       6289                        103805  \n",
       "2                       3303                         31295  \n",
       "3                         69                          4186  \n",
       "4                        402                          3531  "
      ]
     },
     "execution_count": 13,
     "metadata": {},
     "output_type": "execute_result"
    }
   ],
   "source": [
    "#criar o dataframe com base no arquivo excel\n",
    "#precisamos pular as 2 primeiras linhas (skiprows)\n",
    "#precisamos pular as linhas finais (skipfooter)\n",
    "df = pd.read_excel('2120.xlsx', skiprows=2, skipfooter=16)\n",
    "\n",
    "#exibindo as 5 primairas linhas do dataframe\n",
    "df.head()"
   ]
  },
  {
   "cell_type": "code",
   "execution_count": 18,
   "metadata": {},
   "outputs": [
    {
     "ename": "AttributeError",
     "evalue": "'DataFrame' object has no attribute 'tall'",
     "output_type": "error",
     "traceback": [
      "\u001b[1;31m---------------------------------------------------------------------------\u001b[0m",
      "\u001b[1;31mAttributeError\u001b[0m                            Traceback (most recent call last)",
      "\u001b[1;32m<ipython-input-18-25e229ca2cd1>\u001b[0m in \u001b[0;36m<module>\u001b[1;34m\u001b[0m\n\u001b[0;32m      1\u001b[0m \u001b[1;31m#exibir as 5 ultimas linhas\u001b[0m\u001b[1;33m\u001b[0m\u001b[1;33m\u001b[0m\u001b[1;33m\u001b[0m\u001b[0m\n\u001b[1;32m----> 2\u001b[1;33m \u001b[0mdf\u001b[0m\u001b[1;33m.\u001b[0m\u001b[0mtall\u001b[0m\u001b[1;33m(\u001b[0m\u001b[1;33m)\u001b[0m\u001b[1;33m\u001b[0m\u001b[1;33m\u001b[0m\u001b[0m\n\u001b[0m",
      "\u001b[1;32m~\\anaconda3\\lib\\site-packages\\pandas\\core\\generic.py\u001b[0m in \u001b[0;36m__getattr__\u001b[1;34m(self, name)\u001b[0m\n\u001b[0;32m   5272\u001b[0m             \u001b[1;32mif\u001b[0m \u001b[0mself\u001b[0m\u001b[1;33m.\u001b[0m\u001b[0m_info_axis\u001b[0m\u001b[1;33m.\u001b[0m\u001b[0m_can_hold_identifiers_and_holds_name\u001b[0m\u001b[1;33m(\u001b[0m\u001b[0mname\u001b[0m\u001b[1;33m)\u001b[0m\u001b[1;33m:\u001b[0m\u001b[1;33m\u001b[0m\u001b[1;33m\u001b[0m\u001b[0m\n\u001b[0;32m   5273\u001b[0m                 \u001b[1;32mreturn\u001b[0m \u001b[0mself\u001b[0m\u001b[1;33m[\u001b[0m\u001b[0mname\u001b[0m\u001b[1;33m]\u001b[0m\u001b[1;33m\u001b[0m\u001b[1;33m\u001b[0m\u001b[0m\n\u001b[1;32m-> 5274\u001b[1;33m             \u001b[1;32mreturn\u001b[0m \u001b[0mobject\u001b[0m\u001b[1;33m.\u001b[0m\u001b[0m__getattribute__\u001b[0m\u001b[1;33m(\u001b[0m\u001b[0mself\u001b[0m\u001b[1;33m,\u001b[0m \u001b[0mname\u001b[0m\u001b[1;33m)\u001b[0m\u001b[1;33m\u001b[0m\u001b[1;33m\u001b[0m\u001b[0m\n\u001b[0m\u001b[0;32m   5275\u001b[0m \u001b[1;33m\u001b[0m\u001b[0m\n\u001b[0;32m   5276\u001b[0m     \u001b[1;32mdef\u001b[0m \u001b[0m__setattr__\u001b[0m\u001b[1;33m(\u001b[0m\u001b[0mself\u001b[0m\u001b[1;33m,\u001b[0m \u001b[0mname\u001b[0m\u001b[1;33m:\u001b[0m \u001b[0mstr\u001b[0m\u001b[1;33m,\u001b[0m \u001b[0mvalue\u001b[0m\u001b[1;33m)\u001b[0m \u001b[1;33m->\u001b[0m \u001b[1;32mNone\u001b[0m\u001b[1;33m:\u001b[0m\u001b[1;33m\u001b[0m\u001b[1;33m\u001b[0m\u001b[0m\n",
      "\u001b[1;31mAttributeError\u001b[0m: 'DataFrame' object has no attribute 'tall'"
     ]
    }
   ],
   "source": [
    "#exibir as 5 ultimas linhas\n",
    "df.tall()"
   ]
  },
  {
   "cell_type": "code",
   "execution_count": 19,
   "metadata": {},
   "outputs": [
    {
     "data": {
      "text/plain": [
       "Ano de exibição                    object\n",
       "Título da obra                     object\n",
       "CPB/ROE                            object\n",
       "Gênero                             object\n",
       "País(es) produtor(es) da obra      object\n",
       "Nacionalidade da obra              object\n",
       "Data de lançamento                 object\n",
       "Empresa distribuidora              object\n",
       "Origem da empresa distribuidora    object\n",
       "Público no ano de exibição         object\n",
       "Renda (R$) no ano de exibição      object\n",
       "dtype: object"
      ]
     },
     "execution_count": 19,
     "metadata": {},
     "output_type": "execute_result"
    }
   ],
   "source": [
    "df.dtypes"
   ]
  },
  {
   "cell_type": "code",
   "execution_count": null,
   "metadata": {},
   "outputs": [],
   "source": [
    "#converter a data de lançamento"
   ]
  }
 ],
 "metadata": {
  "kernelspec": {
   "display_name": "Python 3",
   "language": "python",
   "name": "python3"
  },
  "language_info": {
   "codemirror_mode": {
    "name": "ipython",
    "version": 3
   },
   "file_extension": ".py",
   "mimetype": "text/x-python",
   "name": "python",
   "nbconvert_exporter": "python",
   "pygments_lexer": "ipython3",
   "version": "3.8.3"
  }
 },
 "nbformat": 4,
 "nbformat_minor": 4
}
