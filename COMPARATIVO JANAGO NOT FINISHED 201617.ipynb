{
 "cells": [
  {
   "cell_type": "code",
   "execution_count": 3,
   "metadata": {},
   "outputs": [],
   "source": [
    "# IMPORTANDO AS BIBLIOTECAS\n",
    "import pandas as pd\n",
    "# informar ao matplotlib sbre gráficos inline\n",
    "%matplotlib inline"
   ]
  },
  {
   "cell_type": "code",
   "execution_count": 9,
   "metadata": {},
   "outputs": [],
   "source": [
    "# vamos importar apenas algumas colunas\n",
    "df = pd.read_csv(\"nome do arquivo\")\n",
    "df.head()"
   ]
  },
  {
   "cell_type": "code",
   "execution_count": null,
   "metadata": {},
   "outputs": [],
   "source": [
    "#trocar o nome das colunas do arquivo\n",
    "df.columns = [\"nome das colunas, ...\"]\n",
    "\n",
    "                                                             "
   ]
  },
  {
   "cell_type": "code",
   "execution_count": 11,
   "metadata": {},
   "outputs": [],
   "source": [
    "# descreer as colunas númericas\n",
    "df.describe()"
   ]
  },
  {
   "cell_type": "code",
   "execution_count": null,
   "metadata": {},
   "outputs": [],
   "source": [
    "#listar o que deseja nos dados\n",
    "#o colchete seleciona os dados\n",
    "df[\"nome da coluna\"].unique()\n",
    "# quantos procedmentos foram exibidos de cada coluna\n",
    "df[\" nome da coluna\"].value_counts()\n",
    "# plotar o gráfico por sub grupo procedimento\n",
    "df[\"nome da coluna\"].value_counts().plot.bar()\n",
    "# vamos criar um subonjunto dos dados originais(criar um outro datafrme)\n",
    "# == quer dizer ou compara duas variáveis\n",
    "df_hospbase = df[df[\"hospital\"]== \" nome do arquivo da coluna\"]\n",
    "\n",
    "#linhas iniciais\n",
    "df_hospital.head(2)\n",
    "\n",
    "#linhas finais do dataframe\n",
    "df_hospbase.tall(4)\n",
    "\n",
    "# listar linhas aleatoria do dataframe\n",
    "df_hospbase.sample()\n",
    "\n",
    "# podemos subdividir o dataframe com base em pedaço de palavra\n",
    "#str - string - texto\n",
    "df_hospbase[df_hospbase[\"nome da coluna que deseja\"].str.contains(\"nome\")].count()\n",
    "\n",
    "#dividir o dataframe original apenas pelo prcedimento de\n",
    "#parto cesariano\n",
    "df_parto_cesariano = df[df[\"nome da coluna\"]== \"nome do que deseja\"]\n",
    "\n",
    "# vamos plotar um gráfico de barras horizontal\n",
    "df_parto_cesariano[\"hospital\"].value_counts().plot.barh()\n",
    "\n",
    "# melhorar o gráfico de barras horizontal\n",
    "# inverter  ordem e colocar o titulo\n",
    "df_parto_cesariano[\"hospital\"].value_counts(ascending=true).plot.barh(title=\"quantidade de partos cesarianos por hospital \")\n",
    "\n"
   ]
  }
 ],
 "metadata": {
  "kernelspec": {
   "display_name": "Python 3",
   "language": "python",
   "name": "python3"
  },
  "language_info": {
   "codemirror_mode": {
    "name": "ipython",
    "version": 3
   },
   "file_extension": ".py",
   "mimetype": "text/x-python",
   "name": "python",
   "nbconvert_exporter": "python",
   "pygments_lexer": "ipython3",
   "version": "3.8.3"
  }
 },
 "nbformat": 4,
 "nbformat_minor": 4
}
